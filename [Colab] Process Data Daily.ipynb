{
  "cells": [
    {
      "cell_type": "code",
      "execution_count": null,
      "metadata": {
        "id": "uB5UqNUHlPA1"
      },
      "outputs": [],
      "source": [
        "import pandas as pd\n",
        "import numpy as np\n",
        "from google.colab import files\n",
        "import io"
      ]
    },
    {
      "cell_type": "code",
      "execution_count": null,
      "metadata": {
        "id": "fyPU2zXrl0GP"
      },
      "outputs": [],
      "source": [
        "# Upload file (xlxs)\n",
        "uploaded = files.upload()"
      ]
    },
    {
      "cell_type": "code",
      "execution_count": null,
      "metadata": {
        "id": "fvs579EZqf3q"
      },
      "outputs": [],
      "source": [
        "dfs = {}\n",
        "\n",
        "for file_name in uploaded.keys():\n",
        "    xls = pd.ExcelFile(file_name)\n",
        "    sheet_names = xls.sheet_names\n",
        "\n",
        "    for sheet_name in sheet_names:\n",
        "        dfs[sheet_name] = pd.read_excel(file_name, sheet_name=sheet_name)\n",
        "\n",
        "SP = dfs['Sponsored_Products']\n",
        "SD = dfs['Sponsored_Display']\n",
        "SB = dfs['Sponsored_Brand']"
      ]
    },
    {
      "cell_type": "code",
      "execution_count": null,
      "metadata": {
        "id": "L-xjF3UzrejJ"
      },
      "outputs": [],
      "source": [
        "# Processing Spronsord Product campaign\n",
        "SP_data = SP.groupby(['Date', 'Advertised SKU']).agg({'Spend':'sum', '7 Day Total Sales ':'sum'})\n",
        "SP_data.rename(columns={'Advertised SKU':'SKU', \"Spend\":\"Spend\", \"7 Day Total Sales \":\"Sales\"},inplace = True)\n",
        "SP_data = SP_data.reset_index()"
      ]
    },
    {
      "cell_type": "code",
      "execution_count": null,
      "metadata": {
        "id": "micqzajOtJxJ"
      },
      "outputs": [],
      "source": [
        "# Processing Spronsord Display campaign\n",
        "SD_data = SD.groupby(['Date', 'Advertised SKU']).agg({'Spend':'sum', '14 Day Total Sales ':'sum'})\n",
        "SD_data.rename(columns={'Advertised SKU':'SKU', \"Spend\":\"Spend\", \"14 Day Total Sales \":\"Sales\"},inplace = True)\n",
        "SD_data = SD_data.reset_index()"
      ]
    },
    {
      "cell_type": "code",
      "execution_count": null,
      "metadata": {
        "id": "nHQFMu3FKHeT"
      },
      "outputs": [],
      "source": [
        "# Read checklist file\n",
        "sheet_url = 'https://docs.google.com/spreadsheets/checklist'  # Replace with actual link\n",
        "product_id = pd.read_html(sheet_url, skiprows=1)[0]\n",
        "product_id = product_id.iloc[1:, 1:]"
      ]
    },
    {
      "cell_type": "code",
      "execution_count": null,
      "metadata": {
        "id": "uTuOe7XZKIWj"
      },
      "outputs": [],
      "source": [
        "# Processing Spronsord Brand campaign\n",
        "product_id['SKU'] = product_id['SKU'].astype(str)\n",
        "def get_matching_sku(campaign_name):\n",
        "    for sku in product_id['SKU']:\n",
        "        # Ensure campaign_name is a string before the 'in' check\n",
        "        if isinstance(campaign_name, str) and sku in campaign_name:\n",
        "            return sku\n",
        "    # Return None if no match is found or if campaign_name is not a string\n",
        "    return None\n",
        "\n",
        "# Convert the 'Campaign' column to string type, handling potential non-string values\n",
        "SB['Campaign'] = SB['Campaign'].astype(str)\n",
        "\n",
        "SB['Advertised SKU'] = SB['Campaign'].apply(get_matching_sku)"
      ]
    },
    {
      "cell_type": "code",
      "execution_count": null,
      "metadata": {
        "id": "0pvY6bdAK-2n",
        "outputId": "56b43133-927e-4ca3-e5fe-8ee3d12073dc",
        "colab": {
          "base_uri": "https://localhost:8080/"
        }
      },
      "outputs": [
        {
          "output_type": "stream",
          "name": "stdout",
          "text": [
            "Dữ liệu hoàn chỉnh\n"
          ]
        }
      ],
      "source": [
        "campaigns_without_sku = SB.loc[SB['Advertised SKU'] ==  'None','Campaign']\n",
        "\n",
        "unique_campaigns_without_sku = campaigns_without_sku.drop_duplicates().tolist()\n",
        "\n",
        "if unique_campaigns_without_sku:\n",
        "    print(\"Campaigns Missing SKU in checklist:\")\n",
        "    print(unique_campaigns_without_sku)\n",
        "else:\n",
        "    print(\"Done\")"
      ]
    },
    {
      "cell_type": "code",
      "execution_count": null,
      "metadata": {
        "id": "h3BXS-HxyPjh"
      },
      "outputs": [],
      "source": [
        "# SB_data['Date'] = pd.to_datetime(SB_data['Date'], format='%Y%m%d').dt.strftime('%m/%d/%Y')\n",
        "SB_data = SB.groupby(['Date', 'Advertised SKU']).agg({'Spend':'sum', 'Sales':'sum'})\n",
        "SB_data.rename(columns={'Advertised SKU':'SKU', \"Spend\":\"Spend\", \"Sales\":\"Sales\"},inplace = True)\n",
        "SB_data = SB_data.reset_index()"
      ]
    },
    {
      "cell_type": "code",
      "execution_count": null,
      "metadata": {
        "id": "N0yljMgWyXYB"
      },
      "outputs": [],
      "source": [
        "data = pd.concat([SP_data, SD_data, SB_data])\n",
        "data = data.reset_index()\n",
        "data['Date'] = pd.to_datetime(data['Date']).dt.strftime('%m/%d/%Y')"
      ]
    },
    {
      "cell_type": "code",
      "execution_count": null,
      "metadata": {
        "id": "vO2vIxt30dcx"
      },
      "outputs": [],
      "source": [
        "# Remove non-numeric characters from 'Sales' column and convert to float\n",
        "data['Sales'] = data['Sales'].astype(str).str.replace(r'[^\\d.]', '', regex=True)\n",
        "data['Sales'] = pd.to_numeric(data['Sales'], errors='coerce')\n",
        "\n",
        "# Remove non-numeric characters from 'Spend' column and convert to float\n",
        "data['Spend'] = data['Spend'].astype(str).str.replace(r'[^\\d.]', '', regex=True)\n",
        "data['Spend'] = pd.to_numeric(data['Spend'], errors='coerce')\n",
        "\n",
        "\n",
        "final_data = data.groupby(['Date','Advertised SKU']).agg({'Spend':'sum', 'Sales':'sum'})\n",
        "final_data = final_data.astype({'Spend':'float', 'Sales':'float'})\n",
        "final_data = final_data.reset_index()"
      ]
    },
    {
      "cell_type": "code",
      "execution_count": null,
      "metadata": {
        "id": "NSEqlfJKB42y",
        "outputId": "77d81b3c-a199-4adf-c44d-77e298da3aba",
        "colab": {
          "base_uri": "https://localhost:8080/",
          "height": 17
        }
      },
      "outputs": [
        {
          "output_type": "display_data",
          "data": {
            "text/plain": [
              "<IPython.core.display.Javascript object>"
            ],
            "application/javascript": [
              "\n",
              "    async function download(id, filename, size) {\n",
              "      if (!google.colab.kernel.accessAllowed) {\n",
              "        return;\n",
              "      }\n",
              "      const div = document.createElement('div');\n",
              "      const label = document.createElement('label');\n",
              "      label.textContent = `Downloading \"${filename}\": `;\n",
              "      div.appendChild(label);\n",
              "      const progress = document.createElement('progress');\n",
              "      progress.max = size;\n",
              "      div.appendChild(progress);\n",
              "      document.body.appendChild(div);\n",
              "\n",
              "      const buffers = [];\n",
              "      let downloaded = 0;\n",
              "\n",
              "      const channel = await google.colab.kernel.comms.open(id);\n",
              "      // Send a message to notify the kernel that we're ready.\n",
              "      channel.send({})\n",
              "\n",
              "      for await (const message of channel.messages) {\n",
              "        // Send a message to notify the kernel that we're ready.\n",
              "        channel.send({})\n",
              "        if (message.buffers) {\n",
              "          for (const buffer of message.buffers) {\n",
              "            buffers.push(buffer);\n",
              "            downloaded += buffer.byteLength;\n",
              "            progress.value = downloaded;\n",
              "          }\n",
              "        }\n",
              "      }\n",
              "      const blob = new Blob(buffers, {type: 'application/binary'});\n",
              "      const a = document.createElement('a');\n",
              "      a.href = window.URL.createObjectURL(blob);\n",
              "      a.download = filename;\n",
              "      div.appendChild(a);\n",
              "      a.click();\n",
              "      div.remove();\n",
              "    }\n",
              "  "
            ]
          },
          "metadata": {}
        },
        {
          "output_type": "display_data",
          "data": {
            "text/plain": [
              "<IPython.core.display.Javascript object>"
            ],
            "application/javascript": [
              "download(\"download_a4338413-c57c-4477-9639-4b52786e350e\", \"Canada Daily 2025.06.19.xlsx\", 33360)"
            ]
          },
          "metadata": {}
        }
      ],
      "source": [
        "# Assume store name is in the 'Country' column; get the first unique value or use any specific logic\n",
        "store = SB['Country'].iloc[0]  # Adjust this if you need to filter or select a specific row\n",
        "\n",
        "# Date\n",
        "date = (pd.Timestamp.now() - pd.Timedelta(days=1)).strftime('%Y.%m.%d')  #  date\n",
        "\n",
        "# Create dynamic file name\n",
        "file_name = f\"{store} Daily {date}.xlsx\"\n",
        "\n",
        "# Export to Excel with dynamic file name\n",
        "final_data.to_excel(file_name, index=False)\n",
        "\n",
        "# Download the file\n",
        "files.download(file_name)"
      ]
    },
    {
      "cell_type": "code",
      "source": [],
      "metadata": {
        "id": "n6aYr3FV8ajd"
      },
      "execution_count": null,
      "outputs": []
    }
  ],
  "metadata": {
    "colab": {
      "provenance": []
    },
    "kernelspec": {
      "display_name": "Python 3",
      "name": "python3"
    },
    "language_info": {
      "name": "python"
    }
  },
  "nbformat": 4,
  "nbformat_minor": 0
}
